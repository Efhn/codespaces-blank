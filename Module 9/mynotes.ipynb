{
 "cells": [
  {
   "cell_type": "markdown",
   "metadata": {},
   "source": [
    "Advanced string methods \n",
    "\n"
   ]
  },
  {
   "cell_type": "code",
   "execution_count": 1,
   "metadata": {},
   "outputs": [
    {
     "name": "stdout",
     "output_type": "stream",
     "text": [
      "Weber State University\n"
     ]
    }
   ],
   "source": [
    "school = 'Weber State University'\n",
    "print(school)"
   ]
  },
  {
   "cell_type": "code",
   "execution_count": 5,
   "metadata": {},
   "outputs": [
    {
     "name": "stdout",
     "output_type": "stream",
     "text": [
      "From 0 to < 5[Weber]\n",
      "From beg. to < 5[Weber]\n"
     ]
    }
   ],
   "source": [
    "# slice character to get the word 'Weber'\n",
    "substring = school[0:5]  # take the first five chars from index 0 to index < 5\n",
    "print(f'From 0 to < 5[{substring}]')\n",
    "substring = school[0:5]  # take the everything up index < 5\n",
    "print(f'From beg. to < 5[{substring}]')"
   ]
  },
  {
   "cell_type": "code",
   "execution_count": 6,
   "metadata": {},
   "outputs": [
    {
     "name": "stdout",
     "output_type": "stream",
     "text": [
      "from >= 6 to <= 10[State]\n"
     ]
    }
   ],
   "source": [
    "# take the word 'State' from school string\n",
    "substring = school[6:11]  #\n",
    "print(f'From >= 6 to <= 10[{substring}]')"
   ]
  },
  {
   "cell_type": "code",
   "execution_count": 13,
   "metadata": {},
   "outputs": [
    {
     "name": "stdout",
     "output_type": "stream",
     "text": [
      "From >= 6 to <= END[State University]\n",
      "Last 5 chars are: [rsity]\n",
      "Full slice: [Weber State University]\n"
     ]
    }
   ],
   "source": [
    "# Everything from State until the end of the string\n",
    "substring = school[6:]  # \n",
    "print(f'From >= 6 to <= END[{substring}]')\n",
    "# Give me the last 5 characters of the string\n",
    "substring = school[-5:]  # \n",
    "print(f'Last 5 chars are: [{substring}]')\n",
    "# A full slice, makes a Real copy of the string\n",
    "substring = school[:]  # \n",
    "print(f'Full slice: [{substring}]')"
   ]
  },
  {
   "cell_type": "code",
   "execution_count": 11,
   "metadata": {},
   "outputs": [
    {
     "name": "stdout",
     "output_type": "stream",
     "text": [
      "You have 2 in your string [Weber State University]\n"
     ]
    }
   ],
   "source": [
    "# Count the number of blank spaces\n",
    "blanks = 0\n",
    "for letter in school:\n",
    "    if letter == ' ':\n",
    "        blanks = blanks + 1\n",
    "print(f'You have {blanks} in your string [{school}]')"
   ]
  },
  {
   "cell_type": "code",
   "execution_count": 17,
   "metadata": {},
   "outputs": [
    {
     "ename": "NameError",
     "evalue": "name 'numbers' is not defined",
     "output_type": "error",
     "traceback": [
      "\u001b[0;31m---------------------------------------------------------------------------\u001b[0m",
      "\u001b[0;31mNameError\u001b[0m                                 Traceback (most recent call last)",
      "Cell \u001b[0;32mIn[17], line 14\u001b[0m\n\u001b[1;32m     12\u001b[0m         blanks \u001b[39m=\u001b[39m blanks \u001b[39m+\u001b[39m \u001b[39m1\u001b[39m  \u001b[39m# count blanks\u001b[39;00m\n\u001b[1;32m     13\u001b[0m     \u001b[39mif\u001b[39;00m letter\u001b[39m.\u001b[39misdigit():\n\u001b[0;32m---> 14\u001b[0m         numbers \u001b[39m=\u001b[39m numbers \u001b[39m+\u001b[39m \u001b[39m1\u001b[39m  \u001b[39m# count numbers\u001b[39;00m\n\u001b[1;32m     16\u001b[0m \u001b[39mprint\u001b[39m(\u001b[39mf\u001b[39m\u001b[39m'\u001b[39m\u001b[39mNew school [\u001b[39m\u001b[39m{\u001b[39;00mnew_school\u001b[39m}\u001b[39;00m\u001b[39m] old school [\u001b[39m\u001b[39m{\u001b[39;00mschool\u001b[39m}\u001b[39;00m\u001b[39m]\u001b[39m\u001b[39m'\u001b[39m)\n\u001b[1;32m     17\u001b[0m \u001b[39mprint\u001b[39m(\u001b[39mf\u001b[39m\u001b[39m'\u001b[39m\u001b[39mNumber of blanks \u001b[39m\u001b[39m{\u001b[39;00mblanks\u001b[39m}\u001b[39;00m\u001b[39m, number of digits \u001b[39m\u001b[39m{\u001b[39;00mnumbers\u001b[39m}\u001b[39;00m\u001b[39m'\u001b[39m)\n",
      "\u001b[0;31mNameError\u001b[0m: name 'numbers' is not defined"
     ]
    }
   ],
   "source": [
    "# Task: Make a copy of the school string, but\n",
    "# capitalize all the letter in your string\n",
    "# How many numbers are in your string\n",
    "# How many punctuations symbols\n",
    "# How many blank chars\n",
    "school = 'Weber State University. Established in 1889'\n",
    "new_school = ''\n",
    "blanks = 0\n",
    "for letter in school:\n",
    "    new_school = new_school + letter.capitalize()  # capitalize\n",
    "    if letter == ' ':\n",
    "        blanks = blanks + 1  # count blanks\n",
    "    if letter.isdigit():\n",
    "        numbers = numbers + 1  # count numbers\n",
    "\n",
    "print(f'New school [{new_school}] old school [{school}]')\n",
    "print(f'Number of blanks {blanks}, number of digits {numbers}')"
   ]
  },
  {
   "cell_type": "code",
   "execution_count": 35,
   "metadata": {},
   "outputs": [
    {
     "name": "stdout",
     "output_type": "stream",
     "text": [
      "Has won UEFA championship [Barcelona]\n",
      "Has won UEFA championship [Real Madrid]\n",
      "Has won UEFA championship [Manchester United]\n",
      "Has not won UEFA championship [Manchester city]\n",
      "Has won UEFA championship [Chelsea]\n",
      "Has not won UEFA championship [Roma]\n",
      "Teams sorry [['Manchester city', 'Roma']]\n",
      "Teams sorry rec [Manchester city|Roma]\n"
     ]
    }
   ],
   "source": [
    "data = 'Barcelona|Real Madrid|Manchester United|Manchester city|Chelsea|Roma'\n",
    "uefa_champs = 'Barcelona|Real Madrid|Manchester United|Chelsea'\n",
    "\n",
    "teams = data.split('|')  # use ',' as field seperator\n",
    "teams_champs = uefa_champs.split('|')\n",
    "teams_sorry = []\n",
    "for team in teams:\n",
    "    if team in teams_champs:\n",
    "        print(f'Has won UEFA championship [{team}]')\n",
    "    else:\n",
    "        # Create a new record to send back of those that are NOT champs, use same field seperator\n",
    "        print(f'Has not won UEFA championship [{team}]')\n",
    "        teams_sorry.append(team)\n",
    "print(f'Teams sorry [{teams_sorry}]')\n",
    "# now JOIN the records with a field seperator\n",
    "temp = '|'.join(teams_sorry)\n",
    "print(f'Teams sorry rec [{temp}]')"
   ]
  }
 ],
 "metadata": {
  "kernelspec": {
   "display_name": "Python 3",
   "language": "python",
   "name": "python3"
  },
  "language_info": {
   "codemirror_mode": {
    "name": "ipython",
    "version": 3
   },
   "file_extension": ".py",
   "mimetype": "text/x-python",
   "name": "python",
   "nbconvert_exporter": "python",
   "pygments_lexer": "ipython3",
   "version": "3.10.4"
  },
  "orig_nbformat": 4
 },
 "nbformat": 4,
 "nbformat_minor": 2
}
