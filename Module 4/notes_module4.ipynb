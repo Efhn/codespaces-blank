{
 "cells": [
  {
   "attachments": {},
   "cell_type": "markdown",
   "metadata": {},
   "source": [
    "# Branches \n",
    "\n",
    "To control your program flow, we use branches (decision). Use the key word `if` statements\n",
    "\n",
    "- Relation operators: `>, <, >=, !=, ==`\n",
    "- `==` Comaparison\n",
    "- `=` Assignment"
   ]
  },
  {
   "cell_type": "code",
   "execution_count": 2,
   "metadata": {},
   "outputs": [
    {
     "name": "stdout",
     "output_type": "stream",
     "text": [
      "Done\n"
     ]
    }
   ],
   "source": [
    "MIN_AGE_TO_VOTE = 18\n",
    "age = 17\n",
    "\n",
    "if age >= MIN_AGE_TO_VOTE:\n",
    "    print('You can vote')\n",
    "print('Done')\n"
   ]
  },
  {
   "cell_type": "code",
   "execution_count": 8,
   "metadata": {},
   "outputs": [
    {
     "name": "stdout",
     "output_type": "stream",
     "text": [
      "Updating your floor number\n",
      "Done, your final floor is 19 \n"
     ]
    }
   ],
   "source": [
    "# Omit the 13th floor \n",
    "BAD_FLOOR = 13\n",
    "floor = 18\n",
    "# Test it\n",
    "if floor > BAD_FLOOR:\n",
    "    # Update floor + 1\n",
    "    actual_floor = floor + 1\n",
    "    print('Updating your floor number')\n",
    "else:\n",
    "    actual_floor = floor\n",
    "    print('You are in a lower floor')\n",
    "\n",
    "print(f'Done, your final floor is {actual_floor} ')"
   ]
  },
  {
   "attachments": {},
   "cell_type": "markdown",
   "metadata": {},
   "source": [
    "You can have multiple/nested if statements"
   ]
  },
  {
   "cell_type": "code",
   "execution_count": 11,
   "metadata": {},
   "outputs": [
    {
     "name": "stdout",
     "output_type": "stream",
     "text": [
      "You received a 6.03\n",
      "Done\n"
     ]
    }
   ],
   "source": [
    "total_sales = 120.50\n",
    "discount = 0\n",
    "if total_sales > 100.0:\n",
    "    discount = total_sales * 0.05  # calculate 5% discunt\n",
    "    total_sales = total_sales - discount  # update total_sales \n",
    "    print(f'You received a {discount:.2f}')\n",
    "else:\n",
    "    diff = 100.0 - total_sales\n",
    "    if diff < 10.0:\n",
    "        print('If you were to purchase our item of the day, you can receive 5% discount')\n",
    "    else:\n",
    "        print(f'You need to spend {diff} to receive 5% discount')\n",
    "    print('Done with diff code')\n",
    "\n",
    "\n",
    "print('Done')"
   ]
  },
  {
   "cell_type": "code",
   "execution_count": 15,
   "metadata": {},
   "outputs": [
    {
     "name": "stdout",
     "output_type": "stream",
     "text": [
      "They are different\n",
      "They are different\n",
      "Done\n"
     ]
    }
   ],
   "source": [
    "# Compare two values\n",
    "num1= 10\n",
    "num2 = 20\n",
    "if num1 == num2:\n",
    "    print('They are the same')\n",
    "else:\n",
    "    print('They are different')\n",
    "if num1 != num2:\n",
    "    print('They are different')\n",
    "else:\n",
    "    print('They are the same')\n",
    "print('Done')"
   ]
  },
  {
   "cell_type": "markdown",
   "metadata": {},
   "source": [
    "You can test multiple cases with:\n",
    "```python\n",
    "if CONDITION:\n",
    "    # Do something\n",
    "elif CONDITION2:               # you could have as many elif as needed\n",
    "    # Do something \n",
    "else:\n",
    "    # Default case"
   ]
  },
  {
   "cell_type": "code",
   "execution_count": 19,
   "metadata": {},
   "outputs": [
    {
     "name": "stdout",
     "output_type": "stream",
     "text": [
      "You can vote\n",
      "You can vote\n"
     ]
    }
   ],
   "source": [
    "VOTING_AGE = 18 \n",
    "DRINKING_AGE = 21\n",
    "age = int(input('What is your age?'))\n",
    "# TODO Printa message if they can vote, or drink, or too young\n",
    "if age >= VOTING_AGE:\n",
    "    print('You can vote')\n",
    "if age >= DRINKING_AGE:\n",
    "    print('You can vote')\n",
    "if age < VOTING_AGE:\n",
    "    print('You are too young')"
   ]
  },
  {
   "cell_type": "code",
   "execution_count": 20,
   "metadata": {},
   "outputs": [
    {
     "name": "stdout",
     "output_type": "stream",
     "text": [
      "You are too young\n"
     ]
    }
   ],
   "source": [
    "# A better solution\n",
    "VOTING_AGE = 18 \n",
    "DRINKING_AGE = 21\n",
    "age = int(input('What is your age?'))\n",
    "# TODO Printa message if they can vote, or drink, or too young\n",
    "if age >= DRINKING_AGE:\n",
    "    print('You can vote')\n",
    "    if age >= VOTING_AGE:\n",
    "        print('You can vote')\n",
    "else:\n",
    "    print('You are too young')"
   ]
  }
 ],
 "metadata": {
  "kernelspec": {
   "display_name": "Python 3",
   "language": "python",
   "name": "python3"
  },
  "language_info": {
   "codemirror_mode": {
    "name": "ipython",
    "version": 3
   },
   "file_extension": ".py",
   "mimetype": "text/x-python",
   "name": "python",
   "nbconvert_exporter": "python",
   "pygments_lexer": "ipython3",
   "version": "3.10.4"
  },
  "orig_nbformat": 4,
  "vscode": {
   "interpreter": {
    "hash": "3ad933181bd8a04b432d3370b9dc3b0662ad032c4dfaa4e4f1596c548f763858"
   }
  }
 },
 "nbformat": 4,
 "nbformat_minor": 2
}
