{
 "cells": [
  {
   "attachments": {},
   "cell_type": "markdown",
   "metadata": {},
   "source": [
    "# Iterables\n",
    "\n",
    "## List Comprehensions\n",
    "\n",
    "A shorthand for `readable, expressive, and effective`\n",
    "\n",
    "General form `[expr(item) for item in iterable]`"
   ]
  },
  {
   "cell_type": "code",
   "execution_count": 2,
   "metadata": {},
   "outputs": [],
   "source": [
    "words = \"Today I am very happy to learn about Python Comprehensions\".split()\n",
    "# words"
   ]
  },
  {
   "cell_type": "code",
   "execution_count": 2,
   "metadata": {},
   "outputs": [
    {
     "name": "stdout",
     "output_type": "stream",
     "text": [
      "[5, 1, 2, 4, 5, 2, 5, 5, 6, 14]\n"
     ]
    }
   ],
   "source": [
    "# Task: Create a list of the length of each elements from the words list\n",
    "lengths = []\n",
    "# TODO: Get lengths\n",
    "for words in words:\n",
    "    lengths.append(len(words))\n",
    "\n",
    "print(lengths)  # print"
   ]
  },
  {
   "cell_type": "code",
   "execution_count": 4,
   "metadata": {},
   "outputs": [
    {
     "name": "stdout",
     "output_type": "stream",
     "text": [
      "[5, 1, 2, 4, 5, 2, 5, 5, 6, 14]\n"
     ]
    }
   ],
   "source": [
    "# Now use a list comprehension \n",
    "[len(word) for word in words]\n",
    "print(lengths)"
   ]
  },
  {
   "cell_type": "code",
   "execution_count": 3,
   "metadata": {},
   "outputs": [
    {
     "name": "stdout",
     "output_type": "stream",
     "text": [
      "[1, 1, 1, 2, 3, 3, 4, 5, 6, 7, 8, 9, 10, 11, 13, 14, 15, 16, 18, 19]\n",
      "[1, 1, 1, 2, 3, 3, 4, 5, 6, 7, 8, 9, 10, 11, 13, 14, 15, 16, 18, 19]\n"
     ]
    }
   ],
   "source": [
    "from math import factorial as fact\n",
    "# Task: Calculate the length of digits for the first 20 factorial numbers\n",
    "# Store the result in a list\n",
    "len(str(fact(20)))\n",
    "digits = []\n",
    "for x in range(1, 21):\n",
    "    digits.append(len(str(fact(x))))\n",
    "print(digits)\n",
    "# Now use a comprehension\n",
    "digits = [len(str(fact(x))) for x in range(1,21)]\n",
    "print(digits)"
   ]
  },
  {
   "attachments": {},
   "cell_type": "markdown",
   "metadata": {},
   "source": [
    "## Set Comprehensions\n",
    "Similar to list comprehensions syntax, but using curly braces. `Sets` can store only unique values.\n",
    "\n",
    "General form: `{expr(item) for item in iterable}`"
   ]
  },
  {
   "cell_type": "code",
   "execution_count": 4,
   "metadata": {},
   "outputs": [
    {
     "data": {
      "text/plain": [
       "{1, 2, 3, 4, 5, 6, 7, 8, 9, 10, 11, 13, 14, 15, 16, 18, 19}"
      ]
     },
     "execution_count": 4,
     "metadata": {},
     "output_type": "execute_result"
    }
   ],
   "source": [
    "{len(str(fact(x))) for x in range(1, 21)}"
   ]
  },
  {
   "attachments": {},
   "cell_type": "markdown",
   "metadata": {},
   "source": [
    "## Filtering Predicates\n",
    "These are `optional filtering clauses` for comprehensions which allows you to choose which items of the iterable object need to be evaluated.\n",
    "\n",
    "General form: `[expr(x) for x in iterable if predicate(x)]`"
   ]
  },
  {
   "cell_type": "code",
   "execution_count": 11,
   "metadata": {},
   "outputs": [
    {
     "ename": "SyntaxError",
     "evalue": "invalid syntax. Perhaps you forgot a comma? (782790869.py, line 12)",
     "output_type": "error",
     "traceback": [
      "\u001b[0;36m  Cell \u001b[0;32mIn[11], line 12\u001b[0;36m\u001b[0m\n\u001b[0;31m    prime_nums = [x for x range(101) if is_prime(x)]\u001b[0m\n\u001b[0m                        ^\u001b[0m\n\u001b[0;31mSyntaxError\u001b[0m\u001b[0;31m:\u001b[0m invalid syntax. Perhaps you forgot a comma?\n"
     ]
    }
   ],
   "source": [
    "from math import sqrt\n",
    "\n",
    "def is_prime(x):\n",
    "    if x < 2: \n",
    "        return False\n",
    "    for i in range(2, int(sqrt(x)) + 1):\n",
    "        if x % i == 0:\n",
    "            return False\n",
    "    return True\n",
    "\n",
    "# Task: Create a list of the prime numbers within the first 100 integers\n",
    "prime_nums = [x for x range(101) if is_prime(x)]\n",
    "print(prime_nums)"
   ]
  },
  {
   "cell_type": "code",
   "execution_count": null,
   "metadata": {},
   "outputs": [],
   "source": []
  }
 ],
 "metadata": {
  "kernelspec": {
   "display_name": "Python 3",
   "language": "python",
   "name": "python3"
  },
  "language_info": {
   "codemirror_mode": {
    "name": "ipython",
    "version": 3
   },
   "file_extension": ".py",
   "mimetype": "text/x-python",
   "name": "python",
   "nbconvert_exporter": "python",
   "pygments_lexer": "ipython3",
   "version": "3.10.4"
  },
  "orig_nbformat": 4
 },
 "nbformat": 4,
 "nbformat_minor": 2
}
