{
 "cells": [
  {
   "cell_type": "code",
   "execution_count": 2,
   "metadata": {},
   "outputs": [
    {
     "name": "stdout",
     "output_type": "stream",
     "text": [
      " You are: Waldo, Weber, and you are 20\n",
      " You are: 20, Waldo, and you are Weber\n",
      " You are: Waldo, Weber, and you are 20\n",
      " You are: Waldo, Weber, and you are 18\n",
      " You are: Waldo, Weber, and you are 19\n",
      " You are: Waldo, Weber, and you are 23\n"
     ]
    }
   ],
   "source": [
    "def my_info(first, last, age=18):\n",
    "    print(f' You are: {first}, {last}, and you are {age}')\n",
    "# Good order\n",
    "my_info('Waldo', 'Weber', 20)  # by position\n",
    "# Wrong order\n",
    "my_info(20, 'Waldo', 'Weber')  # by position\n",
    "# Use Keyword arguments. Order does not matter\n",
    "# Number of required arguments does\n",
    "\n",
    "# Use it\n",
    "my_info('Waldo', 'Weber', 20)\n",
    "my_info('Waldo', 'Weber')  # Use default value for age\n",
    "my_info(age=19, first='Waldo', last='Weber')  # by keyword\n",
    "my_info('Waldo', last='Weber', age=23)"
   ]
  },
  {
   "cell_type": "code",
   "execution_count": 3,
   "metadata": {},
   "outputs": [
    {
     "ename": "NameError",
     "evalue": "name 'Ebbi' is not defined",
     "output_type": "error",
     "traceback": [
      "\u001b[0;31m---------------------------------------------------------------------------\u001b[0m",
      "\u001b[0;31mNameError\u001b[0m                                 Traceback (most recent call last)",
      "Cell \u001b[0;32mIn[3], line 5\u001b[0m\n\u001b[1;32m      2\u001b[0m     \u001b[39mprint\u001b[39m(\u001b[39mf\u001b[39m\u001b[39m\"\u001b[39m\u001b[39mMy first is \u001b[39m\u001b[39m{\u001b[39;00mEbbi\u001b[39m}\u001b[39;00m\u001b[39m. I am \u001b[39m\u001b[39m{\u001b[39;00mage\u001b[39m}\u001b[39;00m\u001b[39m year\u001b[39m\u001b[39m{\u001b[39;00m\u001b[39m'\u001b[39m\u001b[39ms\u001b[39m\u001b[39m'\u001b[39m \u001b[39mif\u001b[39;00m age \u001b[39m!=\u001b[39m \u001b[39m1\u001b[39m \u001b[39melse\u001b[39;00m \u001b[39m'\u001b[39m\u001b[39m'\u001b[39m\u001b[39m}\u001b[39;00m\u001b[39m old. My last is \u001b[39m\u001b[39m{\u001b[39;00mFarhatnia\u001b[39m}\u001b[39;00m\u001b[39m.\u001b[39m\u001b[39m\"\u001b[39m)\n\u001b[1;32m      4\u001b[0m \u001b[39m# Test\u001b[39;00m\n\u001b[0;32m----> 5\u001b[0m my_info()\n\u001b[1;32m      6\u001b[0m my_info(\u001b[39m\"\u001b[39m\u001b[39mEbbi\u001b[39m\u001b[39m\"\u001b[39m, \u001b[39m19\u001b[39m, \u001b[39m\"\u001b[39m\u001b[39mUniversity student\u001b[39m\u001b[39m\"\u001b[39m)\n\u001b[1;32m      7\u001b[0m my_info(name\u001b[39m=\u001b[39m\u001b[39m'\u001b[39m\u001b[39mEbbi\u001b[39m\u001b[39m'\u001b[39m, age\u001b[39m=\u001b[39m\u001b[39m19\u001b[39m, occupation\u001b[39m=\u001b[39m\u001b[39m\"\u001b[39m\u001b[39mAI researcher\u001b[39m\u001b[39m\"\u001b[39m) \u001b[39m# overwrite all parameters\u001b[39;00m\n",
      "Cell \u001b[0;32mIn[3], line 2\u001b[0m, in \u001b[0;36mmy_info\u001b[0;34m(first, age, last)\u001b[0m\n\u001b[1;32m      1\u001b[0m \u001b[39mdef\u001b[39;00m \u001b[39mmy_info\u001b[39m(first\u001b[39m=\u001b[39m\u001b[39m\"\u001b[39m\u001b[39mEbbi\u001b[39m\u001b[39m\"\u001b[39m, age\u001b[39m=\u001b[39m\u001b[39m19\u001b[39m, last\u001b[39m=\u001b[39m\u001b[39m\"\u001b[39m\u001b[39mUniversity student\u001b[39m\u001b[39m\"\u001b[39m):\n\u001b[0;32m----> 2\u001b[0m     \u001b[39mprint\u001b[39m(\u001b[39mf\u001b[39m\u001b[39m\"\u001b[39m\u001b[39mMy first is \u001b[39m\u001b[39m{\u001b[39;00mEbbi\u001b[39m}\u001b[39;00m\u001b[39m. I am \u001b[39m\u001b[39m{\u001b[39;00mage\u001b[39m}\u001b[39;00m\u001b[39m year\u001b[39m\u001b[39m{\u001b[39;00m\u001b[39m'\u001b[39m\u001b[39ms\u001b[39m\u001b[39m'\u001b[39m \u001b[39mif\u001b[39;00m age \u001b[39m!=\u001b[39m \u001b[39m1\u001b[39m \u001b[39melse\u001b[39;00m \u001b[39m'\u001b[39m\u001b[39m'\u001b[39m\u001b[39m}\u001b[39;00m\u001b[39m old. My last is \u001b[39m\u001b[39m{\u001b[39;00mFarhatnia\u001b[39m}\u001b[39;00m\u001b[39m.\u001b[39m\u001b[39m\"\u001b[39m)\n",
      "\u001b[0;31mNameError\u001b[0m: name 'Ebbi' is not defined"
     ]
    }
   ],
   "source": [
    "def my_info(first=\"Ebbi\", age=19, last=\"University student\"):\n",
    "    print(f\"My first is {Ebbi}. I am {age} year{'s' if age != 1 else ''} old. My last is {Farhatnia}.\")\n",
    "\n",
    "# Test\n",
    "my_info()\n",
    "my_info(\"Ebbi\", 19, \"University student\")\n",
    "my_info(name='Ebbi', age=19, occupation=\"AI researcher\") # overwrite all parameters\n",
    "my_info(name='Ebbi', occupation=\"Data analyst\") # overwrite only first and third parameters"
   ]
  },
  {
   "cell_type": "code",
   "execution_count": 12,
   "metadata": {},
   "outputs": [
    {
     "name": "stdout",
     "output_type": "stream",
     "text": [
      "<class 'tuple'> ('cat', 'dog', 'fish') 3\n",
      "Hi cat\n",
      "Hi dog\n",
      "Hi fish\n",
      "<class 'tuple'> ('cat',) 1\n",
      "You are not a pet person\n",
      "<class 'tuple'> ((),) 1\n",
      "You are not a pet person\n"
     ]
    }
   ],
   "source": [
    "def pets(*animals):\n",
    "    print(type(animals), animals, len(animals))\n",
    "    # BUG: We need to figure out how to pass an empty tuple\n",
    "    if len(animals) > 1:\n",
    "        for animal in animals:\n",
    "            print(f'Hi {animal}')\n",
    "    else:\n",
    "        print('You are not a pet person')\n",
    "\n",
    "pets('cat', 'dog', 'fish')\n",
    "pets('cat')\n",
    "pets(())"
   ]
  },
  {
   "cell_type": "code",
   "execution_count": 13,
   "metadata": {},
   "outputs": [
    {
     "ename": "IndexError",
     "evalue": "tuple index out of range",
     "output_type": "error",
     "traceback": [
      "\u001b[0;31m---------------------------------------------------------------------------\u001b[0m",
      "\u001b[0;31mIndexError\u001b[0m                                Traceback (most recent call last)",
      "Cell \u001b[0;32mIn[13], line 6\u001b[0m\n\u001b[1;32m      4\u001b[0m \u001b[39m# test it\u001b[39;00m\n\u001b[1;32m      5\u001b[0m my_pets \u001b[39m=\u001b[39m [\u001b[39m'\u001b[39m\u001b[39mcat\u001b[39m\u001b[39m'\u001b[39m,\u001b[39m'\u001b[39m\u001b[39mdog\u001b[39m\u001b[39m'\u001b[39m]\n\u001b[0;32m----> 6\u001b[0m pets(my_pets)\n\u001b[1;32m      7\u001b[0m my_pets \u001b[39m=\u001b[39m [\u001b[39m'\u001b[39m\u001b[39mcat\u001b[39m\u001b[39m'\u001b[39m,\u001b[39m'\u001b[39m\u001b[39mdog\u001b[39m\u001b[39m'\u001b[39m]\n\u001b[1;32m      8\u001b[0m pets(\u001b[39m'\u001b[39m\u001b[39mcat1\u001b[39m\u001b[39m'\u001b[39m,\u001b[39m'\u001b[39m\u001b[39mdog1\u001b[39m\u001b[39m'\u001b[39m, \u001b[39m'\u001b[39m\u001b[39mdog2\u001b[39m\u001b[39m'\u001b[39m, \u001b[39m'\u001b[39m\u001b[39mcat2\u001b[39m\u001b[39m'\u001b[39m)\n",
      "Cell \u001b[0;32mIn[13], line 2\u001b[0m, in \u001b[0;36mpets\u001b[0;34m(*pets)\u001b[0m\n\u001b[1;32m      1\u001b[0m \u001b[39mdef\u001b[39;00m \u001b[39mpets\u001b[39m(\u001b[39m*\u001b[39mpets):\n\u001b[0;32m----> 2\u001b[0m     \u001b[39mprint\u001b[39m(\u001b[39mf\u001b[39m\u001b[39m'\u001b[39m\u001b[39mThe youngest of my pets is \u001b[39m\u001b[39m{\u001b[39;00mpets[\u001b[39m1\u001b[39;49m]\u001b[39m}\u001b[39;00m\u001b[39m'\u001b[39m)\n",
      "\u001b[0;31mIndexError\u001b[0m: tuple index out of range"
     ]
    }
   ],
   "source": [
    "def pets(*pets):\n",
    "    print(f'The youngest of my pets is {pets[1]}')\n",
    "\n",
    "# test it\n",
    "my_pets = ['cat','dog']\n",
    "pets(my_pets)\n",
    "my_pets = ['cat','dog']\n",
    "pets('cat1','dog1', 'dog2', 'cat2')\n",
    "pets('cat')\n",
    "pets([])"
   ]
  },
  {
   "cell_type": "code",
   "execution_count": null,
   "metadata": {},
   "outputs": [],
   "source": [
    "## arbituary keyword arguments, **kwargs\n",
    "# if you dont know how many keywords\n",
    "## forwarding arguments\n",
    "# One of the common uses of *args and **kwargs is to pass the parameters from a function to another function"
   ]
  },
  {
   "cell_type": "code",
   "execution_count": null,
   "metadata": {},
   "outputs": [],
   "source": [
    "def my_pets_name(**pets):\n",
    "    print(f\"My pet name is {pets['lname']}\")\n",
    "    if len(pets) > 0\n",
    "        print(f\"My per name is {pets['lname']}\")\n",
    "    else:\n",
    "        print('You have no pets')\n",
    "# test it\n",
    "my_pets_name() # empty dict\n",
    "my_pets_name(fname='Waldo', lname='Weber')"
   ]
  },
  {
   "cell_type": "code",
   "execution_count": 4,
   "metadata": {},
   "outputs": [
    {
     "name": "stdout",
     "output_type": "stream",
     "text": [
      "r = 21\n",
      "b = 120\n",
      "g = 68\n",
      "{}\n",
      "r = 21\n",
      "b = 120\n",
      "g = 68\n",
      "alpha = 44\n",
      "{'alpha': 44, 'beta': 55}\n"
     ]
    }
   ],
   "source": [
    "# Another example\n",
    "def color(red, green, blue, **kwargs):\n",
    "    print(f'r = {red}')\n",
    "    print(f'b = {blue}')\n",
    "    print(f'g = {green}')\n",
    "    if 'alpha' in kwargs:\n",
    "        print(f\"alpha = {kwargs['alpha']}\")\n",
    "    print(kwargs)\n",
    "# test it\n",
    "colors = {'red': 21, 'green':68, 'blue':120}\n",
    "# The ** does not correspond to *args, simply, it passes the values, not object\n",
    "color(**colors)\n",
    "colors = {'red': 21, 'green':68, 'blue':120, 'alpha':44, 'beta':55}\n",
    "# The ** does not correspond to *args, simply, it passes the values, not object\n",
    "color(**colors)"
   ]
  },
  {
   "cell_type": "code",
   "execution_count": 6,
   "metadata": {},
   "outputs": [
    {
     "name": "stdout",
     "output_type": "stream",
     "text": [
      "11\n",
      "3\n",
      "17\n",
      "args = ('11',)\n",
      "kwargs = {}\n",
      "11\n",
      "args = ('11',)\n",
      "kwargs = {'base': 2}\n",
      "3\n",
      "args = ('11',)\n",
      "kwargs = {'base': 16}\n",
      "17\n"
     ]
    }
   ],
   "source": [
    "def trace(f, *args, **kwargs):\n",
    "    \"\"\"Function tracing another function\n",
    "\n",
    "    Args:\n",
    "        f (function): function to call\n",
    "    Returns:\n",
    "        int: Return value\n",
    "    \"\"\"\n",
    "    print(f'args = {args}')\n",
    "    print(f'kwargs = {kwargs}')\n",
    "    result = f(*args, **kwargs)\n",
    "    return result\n",
    "\n",
    "def test_trace():\n",
    "    print(int('11'))\n",
    "    print(int('11', base=2))\n",
    "    print(int('11', base=16))\n",
    "    int_16 = trace(int,'11')\n",
    "    print(int_16)\n",
    "    int_2 = trace(int,'11', base=2)\n",
    "    print(int_2)\n",
    "    int_16 = trace(int,'11', base=16)\n",
    "    print(int_16)\n",
    "\n",
    "\n",
    "test_trace()"
   ]
  }
 ],
 "metadata": {
  "kernelspec": {
   "display_name": "Python 3",
   "language": "python",
   "name": "python3"
  },
  "language_info": {
   "codemirror_mode": {
    "name": "ipython",
    "version": 3
   },
   "file_extension": ".py",
   "mimetype": "text/x-python",
   "name": "python",
   "nbconvert_exporter": "python",
   "pygments_lexer": "ipython3",
   "version": "3.10.4"
  },
  "orig_nbformat": 4
 },
 "nbformat": 4,
 "nbformat_minor": 2
}
