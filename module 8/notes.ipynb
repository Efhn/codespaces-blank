{
 "cells": [
  {
   "cell_type": "code",
   "execution_count": 18,
   "metadata": {},
   "outputs": [
    {
     "name": "stdout",
     "output_type": "stream",
     "text": [
      " You are: Waldo, Weber, and you are 20\n",
      " You are: 20, Waldo, and you are Weber\n",
      " You are: Waldo, Weber, and you are 20\n",
      " You are: Waldo, Weber, and you are 18\n",
      " You are: Waldo, Weber, and you are 19\n",
      " You are: Waldo, Weber, and you are 23\n"
     ]
    }
   ],
   "source": [
    "def my_info(first, last, age=18):\n",
    "    print(f' You are: {first}, {last}, and you are {age}')\n",
    "# Good order\n",
    "my_info('Waldo', 'Weber', 20)  # by position\n",
    "# Wrong order\n",
    "my_info(20, 'Waldo', 'Weber')  # by position\n",
    "# Use Keyword arguments. Order does not matter\n",
    "# Number of required arguments does\n",
    "\n",
    "# Use it\n",
    "my_info('Waldo', 'Weber', 20)\n",
    "my_info('Waldo', 'Weber')  # Use default value for age\n",
    "my_info(age=19, first='Waldo', last='Weber')  # by keyword\n",
    "my_info('Waldo', last='Weber', age=23)"
   ]
  },
  {
   "cell_type": "code",
   "execution_count": 19,
   "metadata": {},
   "outputs": [
    {
     "name": "stdout",
     "output_type": "stream",
     "text": [
      "My name is Ebbi. I am 19 years old. My occupation is University student.\n",
      "My name is Ebbi. I am 19 years old. My occupation is University student.\n",
      "My name is Ebbi. I am 19 years old. My occupation is AI researcher.\n",
      "My name is Ebbi. I am 19 years old. My occupation is Data analyst.\n"
     ]
    }
   ],
   "source": [
    "def my_info(first=\"Ebbi\", age=19, last=\"University student\"):\n",
    "    print(f\"My first is {Ebbi}. I am {age} year{'s' if age != 1 else ''} old. My last is {Farhatnia}.\")\n",
    "\n",
    "# Test\n",
    "my_info()\n",
    "my_info(\"Ebbi\", 19, \"University student\")\n",
    "my_info(name='Ebbi', age=19, occupation=\"AI researcher\") # overwrite all parameters\n",
    "my_info(name='Ebbi', occupation=\"Data analyst\") # overwrite only first and third parameters"
   ]
  },
  {
   "cell_type": "code",
   "execution_count": null,
   "metadata": {},
   "outputs": [],
   "source": []
  }
 ],
 "metadata": {
  "kernelspec": {
   "display_name": "Python 3",
   "language": "python",
   "name": "python3"
  },
  "language_info": {
   "codemirror_mode": {
    "name": "ipython",
    "version": 3
   },
   "file_extension": ".py",
   "mimetype": "text/x-python",
   "name": "python",
   "nbconvert_exporter": "python",
   "pygments_lexer": "ipython3",
   "version": "3.10.4"
  },
  "orig_nbformat": 4
 },
 "nbformat": 4,
 "nbformat_minor": 2
}
